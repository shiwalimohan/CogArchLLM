{
 "cells": [
  {
   "cell_type": "code",
   "id": "initial_id",
   "metadata": {
    "collapsed": true,
    "ExecuteTime": {
     "end_time": "2025-03-07T21:14:03.937557Z",
     "start_time": "2025-03-07T21:14:03.583097Z"
    }
   },
   "source": [
    "from openai import OpenAI\n",
    "from math import exp\n",
    "import numpy as np\n",
    "from scipy.stats import entropy\n",
    "import math\n",
    "from IPython.display import display, HTML\n",
    "import os\n",
    "np.set_printoptions(legacy='1.25')\n"
   ],
   "outputs": [],
   "execution_count": 1
  },
  {
   "metadata": {
    "ExecuteTime": {
     "end_time": "2025-03-07T21:16:25.591022Z",
     "start_time": "2025-03-07T21:16:25.574971Z"
    }
   },
   "cell_type": "code",
   "source": "client = OpenAI(api_key=os.environ.get(\"OPENAI_API_KEY\"))\n",
   "id": "8022c6ed255eb9a1",
   "outputs": [
    {
     "ename": "OpenAIError",
     "evalue": "The api_key client option must be set either by passing api_key to the client or by setting the OPENAI_API_KEY environment variable",
     "output_type": "error",
     "traceback": [
      "\u001B[0;31m---------------------------------------------------------------------------\u001B[0m",
      "\u001B[0;31mOpenAIError\u001B[0m                               Traceback (most recent call last)",
      "Cell \u001B[0;32mIn[3], line 1\u001B[0m\n\u001B[0;32m----> 1\u001B[0m client \u001B[38;5;241m=\u001B[39m OpenAI(api_key\u001B[38;5;241m=\u001B[39mos\u001B[38;5;241m.\u001B[39menviron\u001B[38;5;241m.\u001B[39mget(\u001B[38;5;124m\"\u001B[39m\u001B[38;5;124mOPENAI_API_KEY\u001B[39m\u001B[38;5;124m\"\u001B[39m))\n",
      "File \u001B[0;32m/opt/homebrew/anaconda3/envs/CogArchLLM/lib/python3.12/site-packages/openai/_client.py:110\u001B[0m, in \u001B[0;36mOpenAI.__init__\u001B[0;34m(self, api_key, organization, project, base_url, websocket_base_url, timeout, max_retries, default_headers, default_query, http_client, _strict_response_validation)\u001B[0m\n\u001B[1;32m    108\u001B[0m     api_key \u001B[38;5;241m=\u001B[39m os\u001B[38;5;241m.\u001B[39menviron\u001B[38;5;241m.\u001B[39mget(\u001B[38;5;124m\"\u001B[39m\u001B[38;5;124mOPENAI_API_KEY\u001B[39m\u001B[38;5;124m\"\u001B[39m)\n\u001B[1;32m    109\u001B[0m \u001B[38;5;28;01mif\u001B[39;00m api_key \u001B[38;5;129;01mis\u001B[39;00m \u001B[38;5;28;01mNone\u001B[39;00m:\n\u001B[0;32m--> 110\u001B[0m     \u001B[38;5;28;01mraise\u001B[39;00m OpenAIError(\n\u001B[1;32m    111\u001B[0m         \u001B[38;5;124m\"\u001B[39m\u001B[38;5;124mThe api_key client option must be set either by passing api_key to the client or by setting the OPENAI_API_KEY environment variable\u001B[39m\u001B[38;5;124m\"\u001B[39m\n\u001B[1;32m    112\u001B[0m     )\n\u001B[1;32m    113\u001B[0m \u001B[38;5;28mself\u001B[39m\u001B[38;5;241m.\u001B[39mapi_key \u001B[38;5;241m=\u001B[39m api_key\n\u001B[1;32m    115\u001B[0m \u001B[38;5;28;01mif\u001B[39;00m organization \u001B[38;5;129;01mis\u001B[39;00m \u001B[38;5;28;01mNone\u001B[39;00m:\n",
      "\u001B[0;31mOpenAIError\u001B[0m: The api_key client option must be set either by passing api_key to the client or by setting the OPENAI_API_KEY environment variable"
     ]
    }
   ],
   "execution_count": 3
  },
  {
   "metadata": {
    "ExecuteTime": {
     "end_time": "2025-03-07T21:07:29.765101Z",
     "start_time": "2025-03-07T21:07:29.761536Z"
    }
   },
   "cell_type": "code",
   "source": [
    "def get_completion(\n",
    "    messages: list[dict[str, str]],\n",
    "    model: str = \"gpt-4\",\n",
    "    max_tokens=500,\n",
    "    temperature=0,\n",
    "    stop=None,\n",
    "    seed=123,\n",
    "    tools=None,\n",
    "    logprobs=None,  # whether to return log probabilities of the output tokens or not. If true, returns the log probabilities of each output token returned in the content of message..\n",
    "    top_logprobs=None,\n",
    ") -> str:\n",
    "    params = {\n",
    "        \"model\": model,\n",
    "        \"messages\": messages,\n",
    "        \"max_tokens\": max_tokens,\n",
    "        \"temperature\": temperature,\n",
    "        \"stop\": stop,\n",
    "        \"seed\": seed,\n",
    "        \"logprobs\": logprobs,\n",
    "        \"top_logprobs\": top_logprobs,\n",
    "    }\n",
    "    if tools:\n",
    "        params[\"tools\"] = tools\n",
    "\n",
    "    completion = client.chat.completions.create(**params)\n",
    "    return completion"
   ],
   "id": "67a36d546259d43",
   "outputs": [],
   "execution_count": 3
  },
  {
   "metadata": {
    "ExecuteTime": {
     "end_time": "2025-03-07T21:07:31.327948Z",
     "start_time": "2025-03-07T21:07:31.325241Z"
    }
   },
   "cell_type": "code",
   "source": [
    "PROMPT1 = \"\"\"You will be given a math word problem. Provide a numeric answer to the problem. MAKE SURE to only provide a numeric answer.\n",
    "Problem: {question}\"\"\"\n",
    "\n",
    "PROMPT2 = \"\"\"You will be given a math word problem. Provide your response in the following format.\n",
    "ANSWER: <answer>\n",
    "CONFIDENCE: <confidence>\n",
    "Your answer is the numeric answer to the problem. MAKE SURE to only provide a numeric answer.\n",
    "Your confidence is how much you trust the answer to be correct. MAKE SURE to provide a binary rating: high or low.\n",
    "Problem: {question}\"\"\""
   ],
   "id": "18c9dc0893e33448",
   "outputs": [],
   "execution_count": 4
  },
  {
   "metadata": {
    "ExecuteTime": {
     "end_time": "2025-03-07T21:07:32.084609Z",
     "start_time": "2025-03-07T21:07:32.081270Z"
    }
   },
   "cell_type": "code",
   "source": [
    "\n",
    "def get_answer(question, prompt):\n",
    "    num_next_tokens = 5\n",
    "    API_RESPONSE = get_completion(\n",
    "        [{\"role\": \"user\", \"content\": prompt.format(question=question)}],\n",
    "        model=\"gpt-4\",\n",
    "        logprobs=True,\n",
    "        top_logprobs=num_next_tokens,\n",
    "    )\n",
    "\n",
    "    answer = API_RESPONSE.choices[0].message.content\n",
    "    top_logprobs = API_RESPONSE.choices[0].logprobs.content[0].top_logprobs\n",
    "    probs = []\n",
    "    others = []\n",
    "    for i, logprob in enumerate(top_logprobs, start=1):\n",
    "        linear_prob = np.round(np.exp(logprob.logprob)*100, 3)\n",
    "        others.append((logprob.token, logprob.logprob, linear_prob))\n",
    "        probs.append(linear_prob)\n",
    "    print(\"Answer: {}, entropy: {}\".format(answer, entropy(probs)))\n",
    "    print(\"Impasse structure: {}\".format(others))\n"
   ],
   "id": "fd83e9620d1e7864",
   "outputs": [],
   "execution_count": 5
  },
  {
   "metadata": {
    "ExecuteTime": {
     "end_time": "2025-03-07T21:07:35.148825Z",
     "start_time": "2025-03-07T21:07:34.509674Z"
    }
   },
   "cell_type": "code",
   "source": "get_answer(\"On average Joe throws 25 punches per minute. First fight lasts 5 rounds of 3 minutes. Second fight lasts 4 rounds of 5 minutes. How many punches did he throw in the first fight?\", PROMPT1)",
   "id": "5cb4a43c1a9194ed",
   "outputs": [
    {
     "name": "stdout",
     "output_type": "stream",
     "text": [
      "Answer: 375, entropy: 0.0\n",
      "Impasse structure: [('375', -3.1281633e-07, 100.0), ('225', -15.264437, 0.0), ('75', -18.12202, 0.0), ('325', -19.235233, 0.0), (' ', -21.041912, 0.0)]\n"
     ]
    }
   ],
   "execution_count": 6
  },
  {
   "metadata": {
    "ExecuteTime": {
     "end_time": "2025-03-07T21:07:37.189748Z",
     "start_time": "2025-03-07T21:07:36.652580Z"
    }
   },
   "cell_type": "code",
   "source": "get_answer(\"On average Joe throws 25 punches per minute. First fight lasts 5 rounds of 3 minutes. Second fight lasts 4 rounds of 5 minutes. How many punches did he throw in the second fight?\", PROMPT1)",
   "id": "1d0b6a1800d08d26",
   "outputs": [
    {
     "name": "stdout",
     "output_type": "stream",
     "text": [
      "Answer: 500, entropy: 0.0003753873139448033\n",
      "Impasse structure: [('500', -2.9517714e-05, 99.997), ('600', -11.243075, 0.001), ('300', -11.964536, 0.001), ('100', -12.129565, 0.001), ('200', -13.035619, 0.0)]\n"
     ]
    }
   ],
   "execution_count": 7
  },
  {
   "metadata": {
    "ExecuteTime": {
     "end_time": "2025-03-07T21:07:39.191563Z",
     "start_time": "2025-03-07T21:07:38.083628Z"
    }
   },
   "cell_type": "code",
   "source": "get_answer(\"On average Joe throws 25 punches per minute. First fight lasts 5 rounds of 3 minutes. Second fight lasts 4 rounds of 5 minutes. How many punches did he throw in both fights?\", PROMPT1)",
   "id": "d25544d36784dc0f",
   "outputs": [
    {
     "name": "stdout",
     "output_type": "stream",
     "text": [
      "Answer: 1050, entropy: 1.5189745752999697\n",
      "Impasse structure: [('105', -1.6124269, 19.94), ('725', -1.9630243, 14.043), ('950', -2.3705635, 9.343), ('115', -2.5301895, 7.964), ('110', -2.805111, 6.05)]\n"
     ]
    }
   ],
   "execution_count": 8
  },
  {
   "metadata": {
    "ExecuteTime": {
     "end_time": "2025-03-07T21:07:40.242487Z",
     "start_time": "2025-03-07T21:07:39.732114Z"
    }
   },
   "cell_type": "code",
   "source": "get_answer(\"On average Joe throws 25 punches per minute. First fight lasts 5 rounds of 3 minutes. Second fight lasts 4 rounds of 5 minutes. How many total punches did he throw in both fights?\", PROMPT1)",
   "id": "d5b1bb14daa9114d",
   "outputs": [
    {
     "name": "stdout",
     "output_type": "stream",
     "text": [
      "Answer: 725, entropy: 1.4366897803128278\n",
      "Impasse structure: [('725', -1.3146758, 26.856), ('105', -1.9913707, 13.651), ('650', -2.4992461, 8.215), ('950', -2.5201507, 8.045), ('675', -2.9542613, 5.212)]\n"
     ]
    }
   ],
   "execution_count": 9
  },
  {
   "metadata": {
    "ExecuteTime": {
     "end_time": "2025-03-07T21:07:41.322072Z",
     "start_time": "2025-03-07T21:07:40.349317Z"
    }
   },
   "cell_type": "code",
   "source": "get_answer(\"On average Joe throws 25 punches per minute. First fight lasts 5 rounds of 3 minutes. Second fight lasts 4 rounds of 5 minutes. How many punches did he throw in previous fight?\", PROMPT1)",
   "id": "6c180116fac8f65d",
   "outputs": [
    {
     "name": "stdout",
     "output_type": "stream",
     "text": [
      "Answer: 375, entropy: 0.6405684940442882\n",
      "Impasse structure: [('375', -0.2940496, 74.524), ('300', -2.275613, 10.273), ('225', -3.563575, 2.834), ('200', -4.2779193, 1.387), ('400', -4.3255897, 1.323)]\n"
     ]
    }
   ],
   "execution_count": 10
  },
  {
   "metadata": {
    "ExecuteTime": {
     "end_time": "2025-03-07T21:07:42.340777Z",
     "start_time": "2025-03-07T21:07:41.389636Z"
    }
   },
   "cell_type": "code",
   "source": "get_answer(\"On average Joe throws 25 punches per minute. First fight lasts 5 rounds of 3 minutes. Second fight lasts 4 rounds of 5 minutes. How many punches did he throw in next fight?\", PROMPT1)",
   "id": "4386a7f46dcabb90",
   "outputs": [
    {
     "name": "stdout",
     "output_type": "stream",
     "text": [
      "Answer: 375, entropy: 1.356892953483105\n",
      "Impasse structure: [('375', -1.0072517, 36.522), ('450', -1.4297619, 23.937), ('The', -2.564104, 7.699), ('225', -2.591484, 7.491), ('0', -2.7740326, 6.241)]\n"
     ]
    }
   ],
   "execution_count": 11
  },
  {
   "metadata": {
    "ExecuteTime": {
     "end_time": "2025-03-07T21:07:42.878685Z",
     "start_time": "2025-03-07T21:07:42.419024Z"
    }
   },
   "cell_type": "code",
   "source": "get_answer(\"On average Joe throws 25 punches per minute. First fight lasts 5 rounds of 3 minutes. Second fight lasts 4 rounds of 5 minutes. How many punches did he throw in before fight?\", PROMPT1)",
   "id": "4f52d0673e381159",
   "outputs": [
    {
     "name": "stdout",
     "output_type": "stream",
     "text": [
      "Answer: 375, entropy: 0.02732034201484192\n",
      "Impasse structure: [('375', -0.004411721, 99.56), ('75', -6.4138966, 0.164), ('225', -7.050623, 0.087), ('125', -7.3187084, 0.066), ('150', -8.159777, 0.029)]\n"
     ]
    }
   ],
   "execution_count": 12
  },
  {
   "metadata": {
    "ExecuteTime": {
     "end_time": "2025-03-07T21:07:43.386200Z",
     "start_time": "2025-03-07T21:07:42.952012Z"
    }
   },
   "cell_type": "code",
   "source": "get_answer(\"On average Joe throws 25 punches per minute. First fight lasts 5 rounds of 3 minutes. Second fight lasts 4 rounds of 5 minutes. How many punches did he throw in later fight?\", PROMPT1)",
   "id": "43fb356509cd6f79",
   "outputs": [
    {
     "name": "stdout",
     "output_type": "stream",
     "text": [
      "Answer: 500, entropy: 0.0001251303559521681\n",
      "Impasse structure: [('500', -1.998142e-05, 99.998), ('100', -11.699649, 0.001), ('600', -12.292851, 0.0), ('300', -12.548093, 0.0), ('200', -13.226104, 0.0)]\n"
     ]
    }
   ],
   "execution_count": 13
  },
  {
   "metadata": {},
   "cell_type": "code",
   "outputs": [],
   "execution_count": null,
   "source": "",
   "id": "50a9a8ae759cbf0b"
  }
 ],
 "metadata": {
  "kernelspec": {
   "display_name": "Python 3",
   "language": "python",
   "name": "python3"
  },
  "language_info": {
   "codemirror_mode": {
    "name": "ipython",
    "version": 2
   },
   "file_extension": ".py",
   "mimetype": "text/x-python",
   "name": "python",
   "nbconvert_exporter": "python",
   "pygments_lexer": "ipython2",
   "version": "2.7.6"
  }
 },
 "nbformat": 4,
 "nbformat_minor": 5
}
