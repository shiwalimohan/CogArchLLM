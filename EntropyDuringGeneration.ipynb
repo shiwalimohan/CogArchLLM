{
 "cells": [
  {
   "cell_type": "code",
   "id": "initial_id",
   "metadata": {
    "collapsed": true,
    "ExecuteTime": {
     "end_time": "2025-03-07T21:14:03.937557Z",
     "start_time": "2025-03-07T21:14:03.583097Z"
    }
   },
   "source": [
    "from openai import OpenAI\n",
    "from math import exp\n",
    "import numpy as np\n",
    "from scipy.stats import entropy\n",
    "import math\n",
    "from IPython.display import display, HTML\n",
    "import os\n",
    "np.set_printoptions(legacy='1.25')\n"
   ],
   "outputs": [],
   "execution_count": 1
  },
  {
   "metadata": {
    "ExecuteTime": {
     "end_time": "2025-03-07T21:24:39.171920Z",
     "start_time": "2025-03-07T21:24:39.149507Z"
    }
   },
   "cell_type": "code",
   "source": "client = OpenAI(api_key=os.environ.get(\"OPENAI_API_KEY\"))\n",
   "id": "8022c6ed255eb9a1",
   "outputs": [],
   "execution_count": 7
  },
  {
   "metadata": {
    "ExecuteTime": {
     "end_time": "2025-03-07T21:24:39.761627Z",
     "start_time": "2025-03-07T21:24:39.758231Z"
    }
   },
   "cell_type": "code",
   "source": [
    "def get_completion(\n",
    "    messages: list[dict[str, str]],\n",
    "    model: str = \"gpt-4\",\n",
    "    max_tokens=500,\n",
    "    temperature=0,\n",
    "    stop=None,\n",
    "    seed=123,\n",
    "    tools=None,\n",
    "    logprobs=None,  # whether to return log probabilities of the output tokens or not. If true, returns the log probabilities of each output token returned in the content of message..\n",
    "    top_logprobs=None,\n",
    ") -> str:\n",
    "    params = {\n",
    "        \"model\": model,\n",
    "        \"messages\": messages,\n",
    "        \"max_tokens\": max_tokens,\n",
    "        \"temperature\": temperature,\n",
    "        \"stop\": stop,\n",
    "        \"seed\": seed,\n",
    "        \"logprobs\": logprobs,\n",
    "        \"top_logprobs\": top_logprobs,\n",
    "    }\n",
    "    if tools:\n",
    "        params[\"tools\"] = tools\n",
    "\n",
    "    completion = client.chat.completions.create(**params)\n",
    "    return completion"
   ],
   "id": "67a36d546259d43",
   "outputs": [],
   "execution_count": 8
  },
  {
   "metadata": {
    "ExecuteTime": {
     "end_time": "2025-03-07T21:24:41.285016Z",
     "start_time": "2025-03-07T21:24:41.282586Z"
    }
   },
   "cell_type": "code",
   "source": [
    "PROMPT1 = \"\"\"You will be given a math word problem. Provide a numeric answer to the problem. MAKE SURE to only provide a numeric answer.\n",
    "Problem: {question}\"\"\"\n",
    "\n",
    "PROMPT2 = \"\"\"You will be given a math word problem. Provide your response in the following format.\n",
    "ANSWER: <answer>\n",
    "CONFIDENCE: <confidence>\n",
    "Your answer is the numeric answer to the problem. MAKE SURE to only provide a numeric answer.\n",
    "Your confidence is how much you trust the answer to be correct. MAKE SURE to provide a binary rating: high or low.\n",
    "Problem: {question}\"\"\""
   ],
   "id": "18c9dc0893e33448",
   "outputs": [],
   "execution_count": 9
  },
  {
   "metadata": {
    "ExecuteTime": {
     "end_time": "2025-03-07T21:24:42.259897Z",
     "start_time": "2025-03-07T21:24:42.256339Z"
    }
   },
   "cell_type": "code",
   "source": [
    "\n",
    "def get_answer(question, prompt):\n",
    "    num_next_tokens = 5\n",
    "    API_RESPONSE = get_completion(\n",
    "        [{\"role\": \"user\", \"content\": prompt.format(question=question)}],\n",
    "        model=\"gpt-4\",\n",
    "        logprobs=True,\n",
    "        top_logprobs=num_next_tokens,\n",
    "    )\n",
    "\n",
    "    answer = API_RESPONSE.choices[0].message.content\n",
    "    top_logprobs = API_RESPONSE.choices[0].logprobs.content[0].top_logprobs\n",
    "    probs = []\n",
    "    others = []\n",
    "    for i, logprob in enumerate(top_logprobs, start=1):\n",
    "        linear_prob = np.round(np.exp(logprob.logprob)*100, 3)\n",
    "        others.append((logprob.token, logprob.logprob, linear_prob))\n",
    "        probs.append(linear_prob)\n",
    "    print(\"Answer: {}, entropy: {}\".format(answer, entropy(probs)))\n",
    "    print(\"Impasse structure: {}\".format(others))\n"
   ],
   "id": "fd83e9620d1e7864",
   "outputs": [],
   "execution_count": 10
  },
  {
   "metadata": {
    "ExecuteTime": {
     "end_time": "2025-03-07T21:24:44.926522Z",
     "start_time": "2025-03-07T21:24:44.104023Z"
    }
   },
   "cell_type": "code",
   "source": "get_answer(\"On average Joe throws 25 punches per minute. First fight lasts 5 rounds of 3 minutes. Second fight lasts 4 rounds of 5 minutes. How many punches did he throw in the first fight?\", PROMPT1)",
   "id": "5cb4a43c1a9194ed",
   "outputs": [
    {
     "name": "stdout",
     "output_type": "stream",
     "text": [
      "Answer: 375, entropy: 0.0\n",
      "Impasse structure: [('375', -1.9361265e-07, 100.0), ('225', -15.719437, 0.0), ('75', -18.38042, 0.0), ('325', -19.588875, 0.0), (' ', -21.828032, 0.0)]\n"
     ]
    }
   ],
   "execution_count": 11
  },
  {
   "metadata": {
    "ExecuteTime": {
     "end_time": "2025-03-07T21:24:47.248025Z",
     "start_time": "2025-03-07T21:24:46.817635Z"
    }
   },
   "cell_type": "code",
   "source": "get_answer(\"On average Joe throws 25 punches per minute. First fight lasts 5 rounds of 3 minutes. Second fight lasts 4 rounds of 5 minutes. How many punches did he throw in the second fight?\", PROMPT1)",
   "id": "1d0b6a1800d08d26",
   "outputs": [
    {
     "name": "stdout",
     "output_type": "stream",
     "text": [
      "Answer: 500, entropy: 0.0003615243703333824\n",
      "Impasse structure: [('500', -2.939851e-05, 99.997), ('600', -10.883441, 0.002), ('100', -12.064887, 0.001), ('200', -13.354079, 0.0), ('300', -13.402446, 0.0)]\n"
     ]
    }
   ],
   "execution_count": 12
  },
  {
   "metadata": {
    "ExecuteTime": {
     "end_time": "2025-03-07T21:24:49.036630Z",
     "start_time": "2025-03-07T21:24:48.407392Z"
    }
   },
   "cell_type": "code",
   "source": "get_answer(\"On average Joe throws 25 punches per minute. First fight lasts 5 rounds of 3 minutes. Second fight lasts 4 rounds of 5 minutes. How many punches did he throw in the fight?\", PROMPT1)",
   "id": "a07a23dcffe52f28",
   "outputs": [
    {
     "name": "stdout",
     "output_type": "stream",
     "text": [
      "Answer: 375, entropy: 1.5267128690998957\n",
      "Impasse structure: [('375', -1.4969186, 22.382), ('525', -2.0062208, 13.45), ('475', -2.069562, 12.624), ('450', -2.1427298, 11.733), ('725', -2.8648405, 5.699)]\n"
     ]
    }
   ],
   "execution_count": 13
  },
  {
   "metadata": {
    "ExecuteTime": {
     "end_time": "2025-03-07T21:25:55.230598Z",
     "start_time": "2025-03-07T21:25:54.491235Z"
    }
   },
   "cell_type": "code",
   "source": "get_answer(\"On average Joe throws 25 punches per minute. First fight lasts 4 rounds of 5 minutes. Second fight lasts 5 rounds of 3 minutes. How many punches did he throw in the fight?\", PROMPT1)",
   "id": "56200ef09ad781e9",
   "outputs": [
    {
     "name": "stdout",
     "output_type": "stream",
     "text": [
      "Answer: 650, entropy: 1.3808994075811991\n",
      "Impasse structure: [('650', -1.0640868, 34.504), ('450', -2.266451, 10.368), ('700', -2.4353218, 8.757), ('550', -2.5169563, 8.07), ('600', -2.629074, 7.215)]\n"
     ]
    }
   ],
   "execution_count": 14
  },
  {
   "metadata": {
    "ExecuteTime": {
     "end_time": "2025-03-07T21:26:02.353501Z",
     "start_time": "2025-03-07T21:26:01.952884Z"
    }
   },
   "cell_type": "code",
   "source": "get_answer(\"On average Joe throws 25 punches per minute. First fight lasts 5 rounds of 3 minutes. Second fight lasts 4 rounds of 5 minutes. How many punches did he throw in both fights?\", PROMPT1)",
   "id": "d25544d36784dc0f",
   "outputs": [
    {
     "name": "stdout",
     "output_type": "stream",
     "text": [
      "Answer: 725, entropy: 1.5337466497556203\n",
      "Impasse structure: [('725', -1.7120624, 18.049), ('105', -2.079515, 12.499), ('950', -2.4463725, 8.661), ('650', -2.5329833, 7.942), ('850', -2.8044868, 6.054)]\n"
     ]
    }
   ],
   "execution_count": 15
  },
  {
   "metadata": {
    "ExecuteTime": {
     "end_time": "2025-03-07T21:26:07.374988Z",
     "start_time": "2025-03-07T21:26:04.722714Z"
    }
   },
   "cell_type": "code",
   "source": "get_answer(\"On average Joe throws 25 punches per minute. First fight lasts 5 rounds of 3 minutes. Second fight lasts 4 rounds of 5 minutes. How many total punches did he throw in both fights?\", PROMPT1)",
   "id": "d5b1bb14daa9114d",
   "outputs": [
    {
     "name": "stdout",
     "output_type": "stream",
     "text": [
      "Answer: 725, entropy: 1.5577174031605316\n",
      "Impasse structure: [('725', -1.8074045, 16.408), ('105', -2.0154428, 13.326), ('950', -2.2399797, 10.646), ('650', -2.4545908, 8.59), ('850', -2.763505, 6.307)]\n"
     ]
    }
   ],
   "execution_count": 16
  },
  {
   "metadata": {
    "ExecuteTime": {
     "end_time": "2025-03-07T21:26:25.405002Z",
     "start_time": "2025-03-07T21:26:24.992737Z"
    }
   },
   "cell_type": "code",
   "source": "get_answer(\"On average Joe throws 25 punches per minute. First fight lasts 5 rounds of 3 minutes. Second fight lasts 4 rounds of 5 minutes. How many punches did he throw in previous fight?\", PROMPT1)",
   "id": "6c180116fac8f65d",
   "outputs": [
    {
     "name": "stdout",
     "output_type": "stream",
     "text": [
      "Answer: 375, entropy: 0.5606224822417526\n",
      "Impasse structure: [('375', -0.2269503, 79.696), ('300', -2.4358585, 8.752), ('225', -3.5945404, 2.747), ('150', -4.434527, 1.186), ('200', -4.7090707, 0.901)]\n"
     ]
    }
   ],
   "execution_count": 17
  },
  {
   "metadata": {
    "ExecuteTime": {
     "end_time": "2025-03-07T21:26:31.128540Z",
     "start_time": "2025-03-07T21:26:30.644921Z"
    }
   },
   "cell_type": "code",
   "source": "get_answer(\"On average Joe throws 25 punches per minute. First fight lasts 5 rounds of 3 minutes. Second fight lasts 4 rounds of 5 minutes. How many punches did he throw in next fight?\", PROMPT1)",
   "id": "4386a7f46dcabb90",
   "outputs": [
    {
     "name": "stdout",
     "output_type": "stream",
     "text": [
      "Answer: 225, entropy: 1.3944895641112276\n",
      "Impasse structure: [('225', -1.1419826, 31.919), ('375', -1.4138522, 24.32), ('450', -1.7477412, 17.417), ('0', -2.4290252, 8.812), ('275', -3.6106334, 2.703)]\n"
     ]
    }
   ],
   "execution_count": 18
  },
  {
   "metadata": {
    "ExecuteTime": {
     "end_time": "2025-03-07T21:26:32.937498Z",
     "start_time": "2025-03-07T21:26:31.734511Z"
    }
   },
   "cell_type": "code",
   "source": "get_answer(\"On average Joe throws 25 punches per minute. First fight lasts 5 rounds of 3 minutes. Second fight lasts 4 rounds of 5 minutes. How many punches did he throw in before fight?\", PROMPT1)",
   "id": "4f52d0673e381159",
   "outputs": [
    {
     "name": "stdout",
     "output_type": "stream",
     "text": [
      "Answer: 375, entropy: 0.029726848785261863\n",
      "Impasse structure: [('375', -0.0048692804, 99.514), ('75', -6.400305, 0.166), ('225', -6.8846207, 0.102), ('125', -7.221674, 0.073), ('150', -7.877079, 0.038)]\n"
     ]
    }
   ],
   "execution_count": 19
  },
  {
   "metadata": {
    "ExecuteTime": {
     "end_time": "2025-03-07T21:26:34.001348Z",
     "start_time": "2025-03-07T21:26:33.631550Z"
    }
   },
   "cell_type": "code",
   "source": "get_answer(\"On average Joe throws 25 punches per minute. First fight lasts 5 rounds of 3 minutes. Second fight lasts 4 rounds of 5 minutes. How many punches did he throw in later fight?\", PROMPT1)",
   "id": "43fb356509cd6f79",
   "outputs": [
    {
     "name": "stdout",
     "output_type": "stream",
     "text": [
      "Answer: 500, entropy: 0.0\n",
      "Impasse structure: [('500', -6.6306106e-06, 99.999), ('100', -12.542163, 0.0), ('600', -13.441964, 0.0), ('200', -14.2915945, 0.0), ('300', -14.621648, 0.0)]\n"
     ]
    }
   ],
   "execution_count": 20
  },
  {
   "metadata": {},
   "cell_type": "code",
   "outputs": [],
   "execution_count": null,
   "source": "",
   "id": "50a9a8ae759cbf0b"
  }
 ],
 "metadata": {
  "kernelspec": {
   "display_name": "Python 3",
   "language": "python",
   "name": "python3"
  },
  "language_info": {
   "codemirror_mode": {
    "name": "ipython",
    "version": 2
   },
   "file_extension": ".py",
   "mimetype": "text/x-python",
   "name": "python",
   "nbconvert_exporter": "python",
   "pygments_lexer": "ipython2",
   "version": "2.7.6"
  }
 },
 "nbformat": 4,
 "nbformat_minor": 5
}
